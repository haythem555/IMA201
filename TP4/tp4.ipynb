{
 "cells": [
  {
   "cell_type": "markdown",
   "metadata": {
    "id": "lkIDRvvr4LEJ"
   },
   "source": [
    "# Practical Session : Mathematical Morphology and Histogram manipulations\n",
    "\n",
    "The aim of this practical work is to get acquainted with mathematical morphology\n",
    "transformations. Applying different operations with several structuring elements on\n",
    "simple images will allow you understanding the actions, effects and properties of the\n",
    "operations, the role of the structuring element, as well as the need for appropriate\n",
    "pre-processing depending on the application at hand.\n",
    "\n",
    "In this session, we will mainly focus on functions from the skimage.morphology package.\n",
    "\n",
    "First, you have to download a set of images that you will use throughout the TP: https://partage.imt.fr/index.php/s/9YPTAzKsiXHQWH3"
   ]
  },
  {
   "cell_type": "code",
   "execution_count": 3,
   "metadata": {
    "id": "leGrkj3u4yoW"
   },
   "outputs": [],
   "source": [
    "## imports\n",
    "import matplotlib.pyplot as plt\n",
    "import skimage.io as skio\n",
    "import skimage\n",
    "import numpy as np\n",
    "import skimage.morphology as morpho\n",
    "import skimage.segmentation as seg\n",
    "student = True"
   ]
  },
  {
   "cell_type": "markdown",
   "metadata": {
    "id": "42DpJ2s-y7V3"
   },
   "source": [
    "## Mathematical morphology"
   ]
  },
  {
   "cell_type": "markdown",
   "metadata": {
    "id": "W9JgHRXF5ihr"
   },
   "source": [
    "### The structuring element\n",
    "The basic idea in mathematical orphology is to probe an image with a simple, pre-defined shape, drawing conclusions on how this shape fits or misses the shapes in the image. This simple \"probe\" is called the structuring element. For example, it can take the shape of a square, a disk or a diamond, with a predefined radius.\n",
    "\n",
    "Use the function morpho.disk() of the morpho library to visualize a disk structuring element of radius 5. "
   ]
  },
  {
   "cell_type": "code",
   "execution_count": null,
   "metadata": {
    "colab": {
     "base_uri": "https://localhost:8080/",
     "height": 452
    },
    "id": "NzO3Q5i15I0g",
    "outputId": "ce9a64af-1d6a-4533-b9ba-44dbfe8c2bd6"
   },
   "outputs": [],
   "source": [
    "if student :\n",
    "  strell = ...\n",
    "\n",
    "print(strell)\n",
    "plt.imshow(strell)\n",
    "plt.show()"
   ]
  },
  {
   "cell_type": "markdown",
   "metadata": {
    "id": "ZUbKgKGMtqto"
   },
   "source": [
    "Find a way to create a vertical line as a structuring element with parameter length l :"
   ]
  },
  {
   "cell_type": "code",
   "execution_count": null,
   "metadata": {
    "id": "VbTfMYFGt5Hn"
   },
   "outputs": [],
   "source": [
    "def line_strell(width,length):\n",
    "  if student :\n",
    "    strell = ...\n",
    "  return strell\n",
    "\n",
    "strell = line_strell(2,5)\n",
    "print(strell)\n",
    "plt.imshow(strell)\n",
    "plt.show()"
   ]
  },
  {
   "cell_type": "markdown",
   "metadata": {
    "id": "Jrovk0xz8T5q"
   },
   "source": [
    "### Binary Morphology\n",
    "In this section, we will work on a cyto-image. Make sure to properly load the \"cell.tif\" image. Apply a thresholding of level t = 150 to that image to turn it into a binary image. Visualize the result in greyscale, by using the imshow function."
   ]
  },
  {
   "cell_type": "code",
   "execution_count": null,
   "metadata": {
    "colab": {
     "base_uri": "https://localhost:8080/",
     "height": 269
    },
    "id": "0O4WdycqBfMh",
    "outputId": "b62a5353-c0ce-4682-95ea-cf5226767fe4"
   },
   "outputs": [],
   "source": [
    "#load the cell image in grayscale and display it \n",
    "if student:\n",
    "  img = skio.imread(\"images/cell.tif\")\n",
    "  ... # Theresholding and display"
   ]
  },
  {
   "cell_type": "markdown",
   "metadata": {
    "id": "tqvddwvp15j5"
   },
   "source": [
    "We will first start by applying simple binary morphological operations on those images. You will try the following operations:\n",
    "- erosion\n",
    "- dilation\n",
    "- opening\n",
    "- closing\n",
    "\n",
    "You will try to visualize the results by varying the structuring element and its size.  "
   ]
  },
  {
   "cell_type": "code",
   "execution_count": null,
   "metadata": {
    "colab": {
     "base_uri": "https://localhost:8080/",
     "height": 1000
    },
    "id": "fDSmM0S5Gei5",
    "outputId": "37760fac-9c3d-4fab-f9e0-d44f06f346c3"
   },
   "outputs": [],
   "source": [
    "strell = morpho.disk(2)\n",
    "fig,ax = plt.subplots(2, 2, figsize=(20,20))\n",
    "imgs = [...,...,...,...]# Add in this list the 4 images, obtained with the for operations\n",
    "names = [\"erosion\",\"dilation\",\"opening\",\"closing\"]\n",
    "for i in range(4):\n",
    "  ax[i//2,i%2].set_title(names[i])\n",
    "  ax[i//2,i%2].imshow(imgs[i],cmap = \"gray\")\n",
    "plt.show()\n",
    "\n",
    "# try your own structuring elements and make the size vary\n",
    "if student :\n",
    "  ..."
   ]
  },
  {
   "cell_type": "markdown",
   "metadata": {
    "id": "L227C-NY-nip"
   },
   "source": [
    "- **Q** : What is the influence of the shape of the structuring element ?\n",
    "- **A** : ...\n",
    "- **Q** : What is the influence of the size of the structuring element ?\n",
    "- **A** : ..."
   ]
  },
  {
   "cell_type": "markdown",
   "metadata": {
    "id": "EhMEgY1j5KzE"
   },
   "source": [
    "### Greyscale Morphology\n",
    "In this section, we will use the bateau.tif image. Make sure to load it and visualize it in greyscale.\n"
   ]
  },
  {
   "cell_type": "code",
   "execution_count": null,
   "metadata": {
    "colab": {
     "base_uri": "https://localhost:8080/",
     "height": 269
    },
    "id": "BXQwxY4IGqi9",
    "outputId": "eb507d62-4981-4f59-b74a-ff83098f77b9"
   },
   "outputs": [],
   "source": [
    "#load the bateau image in grayscale and display it \n",
    "if student:\n",
    "  img = skio.imread(\"images/bateau.tif\")\n",
    "  plt.imshow(img, cmap = \"gray\")\n",
    "  plt.show()"
   ]
  },
  {
   "cell_type": "markdown",
   "metadata": {
    "id": "32VKT3jr9XZW"
   },
   "source": [
    "Apply the same 4 operations as before (dilation,erosion,opening,closing) and visualize the results. Try out different structuring elements and different sizes."
   ]
  },
  {
   "cell_type": "code",
   "execution_count": null,
   "metadata": {
    "id": "v26JcEuj32aW"
   },
   "outputs": [],
   "source": [
    "if student:\n",
    "  ### start code\n",
    "\n",
    "  ### end code"
   ]
  },
  {
   "cell_type": "markdown",
   "metadata": {
    "id": "eLiWgwxr4CBd"
   },
   "source": [
    "- **Q** : What is the influence of the shape and size parameters of the structuring element ?\n",
    "- **A** : ..."
   ]
  },
  {
   "cell_type": "markdown",
   "metadata": {
    "id": "NCB4r3Yj4TBX"
   },
   "source": [
    "- **Q** : We then now try to illustrate the iterativity property. What is the\n",
    "result of a dilation by a disk structuring element of size 2 followed by a dilation by a\n",
    "disk structuring element of size 3? Compare it with a dilation by a disk of size 5. Explain.\n",
    "- **A** : ..."
   ]
  },
  {
   "cell_type": "code",
   "execution_count": null,
   "metadata": {
    "colab": {
     "base_uri": "https://localhost:8080/",
     "height": 521
    },
    "id": "FG99CBFr9OdR",
    "outputId": "ba34c8aa-88df-4a0c-96bf-554e3df2fc05"
   },
   "outputs": [],
   "source": [
    "if student:\n",
    "  ### start code\n",
    "  dilation = morpho.dilation(img,...)\n",
    "  plt.imshow(dilation,cmap = \"gray\")\n",
    "  plt.title(\"Single dilation\")\n",
    "  plt.show()\n",
    "\n",
    "  sequential_dilation = ...\n",
    "  plt.imshow(sequential_dilation,cmap = \"gray\")\n",
    "  plt.title(\"Sequential dilation\")\n",
    "  plt.show()\n",
    "\n",
    "  plt.imshow(dilation-sequential_dilation,cmap = \"gray\")\n",
    "  plt.title('Difference between the two images')\n",
    "  plt.colorbar()\n",
    "  plt.show()\n",
    "  print(np.sum(np.abs(dilation-sequential_dilation)))"
   ]
  },
  {
   "cell_type": "markdown",
   "metadata": {
    "id": "EbwNYpcK4zHj"
   },
   "source": [
    "- **Q:** Plot the result of an opening by a disk structuring element of size 2 followed by\n",
    "an opening by a disk structuring element of size 3? \n",
    "Compare with a dilation of the image by (a disk of size 2 dilated by a disk of size 3). Please note that you might have to use the np.pad function to perform this. Conclude.\n",
    "- **A:** ..."
   ]
  },
  {
   "cell_type": "code",
   "execution_count": null,
   "metadata": {
    "id": "vesWfxHf9-ff"
   },
   "outputs": [],
   "source": [
    "if student:\n",
    " # First create the sequential structuring element, that is a disk of size 2 dilated by a disk of size 3\n",
    "  sqr_strell = ...\n",
    "  sqr_strell = np.pad(...)\n",
    "  sqr_strell = morpho.dilation(...)\n",
    "  print(sqr_strell)\n",
    "\n",
    "  # Use it to perform the image dilation\n",
    "  dilation = morpho.dilation(img,...)\n",
    "  plt.imshow(dilation,cmap = \"gray\")\n",
    "  plt.title(\"Single dilation\")\n",
    "  plt.show()\n",
    "  \n",
    "  # Compare it with the sequential dilation\n",
    "  sequential_dilation = morpho.dilation(morpho.dilation(img,...),...)\n",
    "  plt.imshow(sequential_dilation,cmap = \"gray\")\n",
    "  plt.title(\"Sequential dilation\")\n",
    "  plt.show()\n",
    "    \n",
    "  plt.imshow(dilation-sequential_dilation,cmap = \"gray\")\n",
    "  plt.title('Difference between the two images')\n",
    "  plt.colorbar()\n",
    "  plt.show()\n",
    "  print(np.sum(np.abs(dilation-sequential_dilation)))"
   ]
  },
  {
   "cell_type": "markdown",
   "metadata": {
    "id": "N9VFQ1wIBAjv"
   },
   "source": [
    "- **Q:** How can you illustrate the idempotence of closing ? Show your illustration in the following cell.\n"
   ]
  },
  {
   "cell_type": "code",
   "execution_count": null,
   "metadata": {
    "colab": {
     "base_uri": "https://localhost:8080/",
     "height": 538
    },
    "id": "4kJfmiqLDpT_",
    "outputId": "83b2ec71-1afe-46bc-805e-af677071aa60"
   },
   "outputs": [],
   "source": [
    "if student :\n",
    "  ### start code\n",
    "  ...\n",
    "  ### end code"
   ]
  },
  {
   "cell_type": "markdown",
   "metadata": {
    "id": "BR__7rlJE2Ti"
   },
   "source": [
    "- **Q** : Perform a top-hat transform in the following cell (difference between the image and its opening).\n",
    "Comment the result depending on the choice of the structuring element.\n",
    "- **A** : ..."
   ]
  },
  {
   "cell_type": "code",
   "execution_count": null,
   "metadata": {
    "colab": {
     "base_uri": "https://localhost:8080/",
     "height": 432
    },
    "id": "pLndjYCLEe1k",
    "outputId": "7b59601b-c22a-47ac-8861-a3587fbacb70"
   },
   "outputs": [],
   "source": [
    "if student:\n",
    "  ### start code\n",
    "  strell = morpho.disk(2)\n",
    "  top_hat = ...\n",
    "plt.figure(figsize = (7,7))\n",
    "plt.imshow(top_hat,cmap = \"gray\")\n",
    "plt.show()"
   ]
  },
  {
   "cell_type": "markdown",
   "metadata": {
    "id": "gDivf--9uW9l"
   },
   "source": [
    "- **Q** : Perform a dual top-hat transform in the following cell (difference between the closing and the image).\n",
    "Comment the result depending on the choice of the structuring element.\n",
    "- **A** : ..."
   ]
  },
  {
   "cell_type": "code",
   "execution_count": null,
   "metadata": {
    "colab": {
     "base_uri": "https://localhost:8080/",
     "height": 432
    },
    "id": "nN-sZk4ausbi",
    "outputId": "250d5d58-ca08-4a2b-9bf1-9301606f3d77"
   },
   "outputs": [],
   "source": [
    "if student:\n",
    "  ### start code\n",
    "  strell = morpho.disk(2)\n",
    "  dual_top_hat = ...\n",
    "plt.figure(figsize = (7,7))\n",
    "plt.imshow(dual_top_hat,cmap = \"gray\")\n",
    "plt.show()"
   ]
  },
  {
   "cell_type": "markdown",
   "metadata": {
    "id": "I6JwJnPcGE0X"
   },
   "source": [
    "### Alternating Filters\n",
    "- **Q**: Perform alternate sequential filters, for instance by performing sequential opening and then closing by squares of radius ranging from 1 to 5. Also try out your own combinations. What kind of filtering can be expected from such\n",
    "operations?\n",
    "- **A**:..."
   ]
  },
  {
   "cell_type": "code",
   "execution_count": null,
   "metadata": {
    "colab": {
     "base_uri": "https://localhost:8080/",
     "height": 825
    },
    "id": "dzJdpjx7GIUs",
    "outputId": "b2850fbb-9e90-4b97-9625-edec3bad8070"
   },
   "outputs": [],
   "source": [
    "# Example\n",
    "img = skio.imread(\"images/montreuil.tif\")\n",
    "\n",
    "# Structuring elements\n",
    "se1=...\n",
    "se2=...\n",
    "se3=...\n",
    "se4=...\n",
    "se5=...\n",
    "\n",
    "# Images\n",
    "fas1=...\n",
    "fas2=...\n",
    "fas3=...\n",
    "fas4=...\n",
    "fas5=...\n",
    "\n",
    "fig,ax = plt.subplots(2,3,figsize = (20,15))\n",
    "ax[0,0].imshow(fas1,cmap = \"gray\")\n",
    "ax[0,1].imshow(fas2,cmap = \"gray\")\n",
    "ax[0,2].imshow(fas3,cmap = \"gray\")\n",
    "ax[1,0].imshow(fas4,cmap = \"gray\")\n",
    "ax[1,1].imshow(fas5,cmap = \"gray\")\n",
    "ax[1,2].imshow(img,cmap = \"gray\")\n",
    "plt.show()\n",
    "\n",
    "#Try you own\n",
    "if student :\n",
    "  ...\n",
    "   "
   ]
  },
  {
   "cell_type": "markdown",
   "metadata": {
    "id": "0syGM6Pzt1Vs"
   },
   "source": [
    "### Segmentation\n",
    " - **Q** : Apply a morphological gradient to the image cell.tif (difference between\n",
    "dilation and erosion with a structuring element of radius1). What do you observe ?\n",
    "\n",
    "- **A**: (code in the following cell) ..."
   ]
  },
  {
   "cell_type": "code",
   "execution_count": null,
   "metadata": {
    "colab": {
     "base_uri": "https://localhost:8080/",
     "height": 867
    },
    "id": "euwzDm_xuGod",
    "outputId": "b3ba7bd9-f09a-4920-fd1b-ae1532d59dbb"
   },
   "outputs": [],
   "source": [
    "if student : \n",
    "  img = skio.imread(\"images/cell.tif\")\n",
    "  morpho_grad = ...\n",
    "plt.figure(figsize=(15,15))\n",
    "plt.imshow(morpho_grad,cmap = \"gray\")\n",
    "plt.show()\n"
   ]
  },
  {
   "cell_type": "markdown",
   "metadata": {
    "id": "6qEnOZ18uxgi"
   },
   "source": [
    "- **Q** : Try to threshold the gradient with a value of 25 for instance. Why is is difficult to find an appropriate threshold value ?\n",
    "- **A** : (code in the next cell) ..."
   ]
  },
  {
   "cell_type": "code",
   "execution_count": null,
   "metadata": {
    "id": "puMCfhFhunRC"
   },
   "outputs": [],
   "source": [
    "if student :\n",
    "  thresh_grad = ...\n",
    "plt.figure(figsize=(15,15))\n",
    "plt.imshow(thresh_grad,cmap  =\"gray\")\n",
    "plt.show()"
   ]
  },
  {
   "cell_type": "markdown",
   "metadata": {
    "id": "VNxe5rFAwIAh"
   },
   "source": [
    "- **Q** Apply the watershed algorithm to the gradient image using morpho.watershed(morpho_grad,k) ;\n",
    "What do you observe ? \n",
    "- **A** :(code in the next cell) ...\n",
    "- **Q** Try to change the parameter k ; what is the role of that parameter ?\n",
    "- **A** :(code in the next cell) ..."
   ]
  },
  {
   "cell_type": "code",
   "execution_count": null,
   "metadata": {
    "id": "F0gSp0zfvdb9"
   },
   "outputs": [],
   "source": [
    "import matplotlib\n",
    "cmaprand = matplotlib.colors.ListedColormap ( np.random.rand ( 256,3))\n",
    "if student :\n",
    "  wat = ...\n",
    "\n",
    "plt.imshow(wat, cmap =cmaprand)\n",
    "plt.show()"
   ]
  },
  {
   "cell_type": "markdown",
   "metadata": {
    "id": "aSpsNvKhxZyb"
   },
   "source": [
    "- **Q** : Apply first a closing on the gradient image and then the watershed. Is the result better ? In which sense and why ?\n",
    "- **A** : (code in the next cell) ...\n",
    "- **Q** : Apply an opening with the same structuring element on the gradient image and then do a watershed. What is the difference between this operation and the previous? \n",
    "- **A** : (code in the next cell) ..."
   ]
  },
  {
   "cell_type": "code",
   "execution_count": null,
   "metadata": {
    "id": "hxLcOCMxwrX6"
   },
   "outputs": [],
   "source": [
    "if student :\n",
    "  wat_closing = ...\n",
    "plt.figure(figsize =(15,15))\n",
    "plt.imshow(wat_closing,cmap =cmaprand)\n",
    "plt.show()"
   ]
  },
  {
   "cell_type": "code",
   "execution_count": null,
   "metadata": {
    "id": "mB2mGs8jForU"
   },
   "outputs": [],
   "source": [
    "if student :\n",
    "  wat_opening = ...\n",
    "plt.figure(figsize =(15,15))\n",
    "plt.imshow(wat_opening,cmap =cmaprand)\n",
    "plt.show()"
   ]
  },
  {
   "cell_type": "markdown",
   "metadata": {
    "id": "Lu06FWeYCgdV"
   },
   "source": [
    "Your objective is to try to do better than what you did with the closure and opening. To do that, we propose to use specific markers for the watershed transform.\n",
    "\n",
    "**Q** : In the next cell, compute the reconstruction from an opening of the gradient. You can use as structuring element a disk of size 5. What do you observe ? Could it help you to efficiently segment the cells ?\n",
    "\n",
    "**A** : ..."
   ]
  },
  {
   "cell_type": "code",
   "execution_count": null,
   "metadata": {
    "colab": {
     "base_uri": "https://localhost:8080/",
     "height": 1000
    },
    "id": "y7gVGg0jUrPN",
    "outputId": "73ce25eb-0c87-485b-966a-f8088d76a356"
   },
   "outputs": [],
   "source": [
    "imOpen = ...\n",
    "reco=...\n",
    "plt.figure(figsize =(15,15))\n",
    "plt.imshow(reco,cmap = \"gray\")\n",
    "plt.show()"
   ]
  },
  {
   "cell_type": "markdown",
   "metadata": {
    "id": "5RfqNYxnDi_c"
   },
   "source": [
    "**Q** : In the next cell, compute the reconstruction from an closing of the gradient. You can use as structuring alement a disk of size 5. What do you observe ? Could it help you to efficiently segment the cells ?\n",
    "\n",
    "**A** : ..."
   ]
  },
  {
   "cell_type": "code",
   "execution_count": null,
   "metadata": {
    "colab": {
     "base_uri": "https://localhost:8080/",
     "height": 1000
    },
    "id": "_LRk1qJIXQ6M",
    "outputId": "28d49387-1cbd-488c-d301-7409df22ad5f"
   },
   "outputs": [],
   "source": [
    "imClos = ...\n",
    "reco=...\n",
    "plt.figure(figsize =(15,15))\n",
    "plt.imshow(reco,cmap = \"gray\")\n",
    "plt.show()"
   ]
  },
  {
   "cell_type": "markdown",
   "metadata": {
    "id": "kH2vgEsSDq7V"
   },
   "source": [
    "**Q** : This last part is less guided. Use the reconstruction operation and the above questions to find good markers for the watershed algorithm. You could benefit from using the peak_local_max function of skimage.feature"
   ]
  },
  {
   "cell_type": "code",
   "execution_count": null,
   "metadata": {
    "colab": {
     "base_uri": "https://localhost:8080/",
     "height": 867
    },
    "id": "FPPl9-1k01Qd",
    "outputId": "19e1584d-d92a-474d-c81a-e717e2195757"
   },
   "outputs": [],
   "source": [
    "plt.figure(figsize =(15,15))\n",
    "plt.imshow(wat,cmap =cmaprand)\n",
    "plt.show()"
   ]
  },
  {
   "cell_type": "code",
   "execution_count": null,
   "metadata": {
    "id": "UfUJH3HyUfSZ"
   },
   "outputs": [],
   "source": []
  }
 ],
 "metadata": {
  "colab": {
   "collapsed_sections": [
    "K_uC4ORHyy2j"
   ],
   "name": "Morpho_TP_2021_student.ipynb",
   "provenance": [],
   "toc_visible": true
  },
  "kernelspec": {
   "display_name": "Python 3 (ipykernel)",
   "language": "python",
   "name": "python3"
  },
  "language_info": {
   "codemirror_mode": {
    "name": "ipython",
    "version": 3
   },
   "file_extension": ".py",
   "mimetype": "text/x-python",
   "name": "python",
   "nbconvert_exporter": "python",
   "pygments_lexer": "ipython3",
   "version": "3.11.4"
  }
 },
 "nbformat": 4,
 "nbformat_minor": 1
}