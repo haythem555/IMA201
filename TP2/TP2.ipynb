{
 "cells": [
  {
   "cell_type": "markdown",
   "id": "63d4cec8",
   "metadata": {},
   "source": [
    "# Compte rendu du TP 2, réalisé par Haithem Daghmoura"
   ]
  },
  {
   "cell_type": "markdown",
   "id": "cdb9eedd",
   "metadata": {},
   "source": [
    "# Section I : Imports"
   ]
  },
  {
   "cell_type": "code",
   "execution_count": 1,
   "id": "876258aa",
   "metadata": {},
   "outputs": [],
   "source": [
    "import numpy as np\n",
    "import platform\n",
    "import tempfile\n",
    "import os\n",
    "import matplotlib.pyplot as plt\n",
    "from scipy import ndimage as ndi\n",
    "# necessite scikit-image \n",
    "from skimage import io as skio\n",
    "\n",
    "# POUR LA MORPHO\n",
    "from skimage.segmentation import watershed # watershed was moved to the skimage.segmentation in higher versions of skimage\n",
    "from skimage.feature import peak_local_max\n",
    "\n",
    "from usful_functions import *"
   ]
  },
  {
   "cell_type": "markdown",
   "id": "aefa2147",
   "metadata": {},
   "source": [
    "# Section II "
   ]
  },
  {
   "cell_type": "markdown",
   "id": "5e070f3d",
   "metadata": {},
   "source": [
    "## 2- Transformation géométrique"
   ]
  },
  {
   "cell_type": "markdown",
   "id": "4d938b6a",
   "metadata": {},
   "source": [
    "### Exploration de la fonction rotation"
   ]
  },
  {
   "cell_type": "code",
   "execution_count": 22,
   "id": "65cce207",
   "metadata": {},
   "outputs": [],
   "source": [
    "im=skio.imread(\"images/tmp.tif\")\n",
    "viewimage(im)"
   ]
  },
  {
   "cell_type": "code",
   "execution_count": 3,
   "id": "d8e0c932",
   "metadata": {},
   "outputs": [],
   "source": [
    "rotated_im= rotation(im,45,ech=0)\n",
    "viewimage(rotated_im)"
   ]
  },
  {
   "cell_type": "markdown",
   "id": "dbd65444",
   "metadata": {},
   "source": [
    "Au début on commence avec la methode à plus proche voisin\n",
    "<table><tr>\n",
    "<td> <img src=\"capture/1.PNG\" alt=\"Drawing\" style=\"width: 300px;\"/>  <p><center>Original Image</center></p> </td> \n",
    "   \n",
    "<td> <img src=\"capture/2.PNG\" alt=\"Drawing\" style=\"width: 300px;\"/>  <p><center>Image with 90° rotation</center></p> </td> \n",
    "    \n",
    "<td> <img src=\"capture/3.PNG\" alt=\"Drawing\" style=\"width: 300px;\"/>  <p><center>Image with 45° rotation</center></p> </td> \n",
    "</tr></table>\n",
    "Dans la troisième image on a fait de maniere que l'image avec une rotation non congru à 0 modulo 90 a des contour noir pour convserver la forme carré "
   ]
  },
  {
   "cell_type": "code",
   "execution_count": 18,
   "id": "2d2aeaab",
   "metadata": {},
   "outputs": [],
   "source": [
    "rotated_im= rotation(im,45,ech=0,clip= False)\n",
    "viewimage(rotated_im)\n"
   ]
  },
  {
   "cell_type": "code",
   "execution_count": 20,
   "id": "53dc004e",
   "metadata": {},
   "outputs": [
    {
     "data": {
      "text/plain": [
       "(364, 364)"
      ]
     },
     "execution_count": 20,
     "metadata": {},
     "output_type": "execute_result"
    }
   ],
   "source": [
    "rotated_im.shape\n"
   ]
  },
  {
   "cell_type": "markdown",
   "id": "e59912f5",
   "metadata": {},
   "source": [
    "<table><tr>\n",
    "<td> <img src=\"capture/3.PNG\" alt=\"Drawing\" style=\"width: 400px;\"/>  <p><center>Clip=True</center></p> </td> \n",
    "   \n",
    "<td> <img src=\"capture/5.PNG\" alt=\"Drawing\" style=\"width: 400px;\"/>  <p><center>Clip=False</center></p> </td> \n",
    "    \n",
    "\n",
    "</tr></table>\n",
    "On remarque que si on met clip à False on aura une image de plus grande taille (364x364) à peu pres égale à (256x256) multiplié par racine de 2 apres une seule rotation et qui conserve tous les detail de l'image original"
   ]
  },
  {
   "cell_type": "markdown",
   "id": "33274cde",
   "metadata": {},
   "source": [
    "### Difference entre la rotation utilisant le méthode à plus proche voisin et la méthode bilinéaire"
   ]
  },
  {
   "cell_type": "code",
   "execution_count": 29,
   "id": "6c37aa4b",
   "metadata": {},
   "outputs": [],
   "source": [
    "rotated_im= rotation(im,45,ech=0)\n",
    "viewimage(rotated_im)\n",
    "rotated_im=rotation(im,45,ech=1)\n",
    "viewimage(rotated_im)"
   ]
  },
  {
   "cell_type": "markdown",
   "id": "04f4fdfe",
   "metadata": {},
   "source": [
    "<table><tr>\n",
    "<td> <img src=\"capture/6.PNG\" alt=\"Drawing\" style=\"width: 400px;\"/>  <p><center>méthode de plus proche voisin</center></p> </td> \n",
    "   \n",
    "<td> <img src=\"capture/7.PNG\" alt=\"Drawing\" style=\"width: 400px;\"/>  <p><center>méthode de bilinéaire</center></p> </td> \n",
    "    \n",
    "\n",
    "</tr></table>\n",
    "On remarque que pour la premiere méthode (plus proches) l'images est constante par morceau : chaque pavé d'une certaine longeur à une valeur constante ce qui explique une certain forme carré dans la premiere image. Pour la deuxieme image on constate que l'interpolation est de degré 1 "
   ]
  },
  {
   "cell_type": "code",
   "execution_count": 34,
   "id": "feada211",
   "metadata": {},
   "outputs": [],
   "source": [
    "# image 8 rotation pour la plus proche voisin\n",
    "rotated_im = im\n",
    "for i in range (8):\n",
    "    rotated_im=rotation(rotated_im,45,ech=0,clip=True)\n",
    "viewimage (rotated_im)\n",
    "\n",
    "# image 8 rotation pour le bilatérale\n",
    "rotated_im = im\n",
    "for i in range (8):\n",
    "    rotated_im=rotation(rotated_im,45,ech=1,clip=True)\n",
    "viewimage (rotated_im)"
   ]
  },
  {
   "cell_type": "markdown",
   "id": "d9928f2b",
   "metadata": {},
   "source": [
    "<table><tr>\n",
    "<td> <img src=\"capture/8.PNG\" alt=\"Drawing\" style=\"width: 400px;\"/>  <p><center>8 rotation avec le plus proche voisin</center></p> </td> \n",
    "   \n",
    "<td> <img src=\"capture/9.PNG\" alt=\"Drawing\" style=\"width: 400px;\"/>  <p><center>8 rotation avec le bilinéaire</center></p> </td> \n",
    " \n",
    "</tr></table>\n",
    "on constate qu'on introduit une espèce de flou du au erreurs commulé dans chaque rotation"
   ]
  },
  {
   "cell_type": "code",
   "execution_count": 43,
   "id": "8adfd54f",
   "metadata": {},
   "outputs": [],
   "source": [
    "rotated_im=rotation(im,45,0.5,ech=1,clip=True)\n",
    "viewimage(rotated_im)\n",
    "rotated_im=rotation(im,-45,0.5,ech=1,clip=True)\n"
   ]
  },
  {
   "cell_type": "markdown",
   "id": "f7ca349d",
   "metadata": {},
   "source": [
    "<table><tr>\n",
    "<td> <img src=\"capture/10.PNG\" alt=\"Drawing\" style=\"width: 400px;\"/>  <p><center>rotation 45 + dezoom</center></p> </td> \n",
    "   \n",
    "   \n",
    "</tr></table>\n",
    "on peut voire qu'il y'a des pixel carré pour la methode de bilinéaire qui n'était pas présent sans le dézoom\n",
    "on aurait du faire un filtrage passe bas pour annuler les hautes fréquence pour annuler cet effet"
   ]
  },
  {
   "cell_type": "markdown",
   "id": "b731a5f9",
   "metadata": {},
   "source": [
    "## 3-Filtrage linéaire et médian"
   ]
  },
  {
   "cell_type": "markdown",
   "id": "6618e1bf",
   "metadata": {},
   "source": [
    "Le parametre passé à ger_gau_ker est l'ecart type de la gaussienne qu'on veut filtrer avec.\n",
    "Dans l'implimentation de la fonction ce parametre influence la taille du filtre carré de coté noté ss dans l'implementaiton. Donc ss = int(max(3,2*round(2.5s)+1))"
   ]
  },
  {
   "cell_type": "code",
   "execution_count": 24,
   "id": "caba7335",
   "metadata": {},
   "outputs": [],
   "source": [
    "def noise(im,br):\n",
    "    imt=np.float32(im.copy())\n",
    "    sh=imt.shape\n",
    "    bruit=br*np.random.randn(*sh)\n",
    "    imt=imt+bruit\n",
    "    return imt"
   ]
  },
  {
   "cell_type": "code",
   "execution_count": 25,
   "id": "8d90008c",
   "metadata": {},
   "outputs": [],
   "source": [
    "im1=skio.imread(\"images/pyramide.tif\")\n",
    "viewimage(im1)\n",
    "noise_im1=noise(im1,6)\n",
    "viewimage(noise_im1)\n",
    "gau_ker=get_gau_ker(1)\n",
    "cst_ker=get_cst_ker(5)\n",
    "filtred_gau_im1=filtre_lineaire(noise_im1,gau_ker)\n",
    "filtred_cst_im1=filtre_lineaire(noise_im1,cst_ker)\n",
    "viewimage(filtred_gau_im1)\n",
    "viewimage(filtred_cst_im1)\n",
    "viewimage(get_cst_ker(5))\n",
    "viewimage(get_gau_ker(1))"
   ]
  },
  {
   "cell_type": "markdown",
   "id": "37a53597",
   "metadata": {},
   "source": [
    "<table><tr>\n",
    "<td> <img src=\"capture/11.PNG\" alt=\"Drawing\" style=\"width: 400px;\"/>  <p><center>Original image</center></p> </td> \n",
    "   \n",
    "<td> <img src=\"capture/12.PNG\" alt=\"Drawing\" style=\"width: 400px;\"/>  <p><center>Noisy image</center></p> </td> \n",
    "    \n",
    " <td> <img src=\"capture/13.PNG\" alt=\"Drawing\" style=\"width: 400px;\"/>  <p><center>Linear filtring using gaus filter</center></p> </td> \n",
    "   \n",
    "<td> <img src=\"capture/14.PNG\" alt=\"Drawing\" style=\"width: 400px;\"/>  <p><center>Linear filtring using cst filter</center></p> </td> \n",
    " <td> <img src=\"capture/15.PNG\" alt=\"Drawing\" style=\"width: 400px;\"/>  <p><center></center></p>gaussien kernal </td> \n",
    "   \n",
    "<td> <img src=\"capture/16.PNG\" alt=\"Drawing\" style=\"width: 400px;\"/>  <p><center>cte kernal</center></p> </td> \n",
    "    \n",
    "</tr></table>"
   ]
  },
  {
   "cell_type": "markdown",
   "id": "a891b38b",
   "metadata": {},
   "source": [
    "pour evaluer le débruitage d'un bruit dans ce type d'image on peut regarder les zones constante dans l'image original. Ces zones doivent avoir une variance nulle car ils sont constante. donc on evalue la variance de ces zones la dans l'image apres débruitage. Et donc plus la variance est petit plus le débruitage est bon. Dans la section suivant j'ai essayer d'implementer une telle function"
   ]
  },
  {
   "cell_type": "code",
   "execution_count": 26,
   "id": "3a32f8ba",
   "metadata": {},
   "outputs": [
    {
     "name": "stdout",
     "output_type": "stream",
     "text": [
      "metric for evaluating the original image 0.0\n"
     ]
    }
   ],
   "source": [
    "#calcule de la vaiance dans chaque zone et puis on somme\n",
    "def compute_var_metric (original_im,filtred_im):\n",
    "    valeurs_cte = np.unique(original_im)\n",
    "    zones=[]\n",
    "    for cte in valeurs_cte :\n",
    "        zones.append( (im1 == cte))\n",
    "    var=filtred_im[zones[0]].var()\n",
    "    for zone in zones:\n",
    "        var=min(filtred_im[zone].var(),var)\n",
    "    return var\n",
    "print(\"metric for evaluating the original image\",compute_var_metric(im1,im1))"
   ]
  },
  {
   "cell_type": "code",
   "execution_count": 27,
   "id": "7786baf5",
   "metadata": {
    "scrolled": true
   },
   "outputs": [
    {
     "name": "stdout",
     "output_type": "stream",
     "text": [
      "metric for evaluating the cte_kernal_denoising :  0.22127737780861886\n"
     ]
    }
   ],
   "source": [
    "print(\"metric for evaluating the cte_kernal_denoising : \",compute_var_metric(im1,filtred_cst_im1))"
   ]
  },
  {
   "cell_type": "code",
   "execution_count": 28,
   "id": "c4eba0e2",
   "metadata": {},
   "outputs": [
    {
     "name": "stdout",
     "output_type": "stream",
     "text": [
      "metric for evaluating the cte_kernal_denoising  0.2871575283799921\n"
     ]
    }
   ],
   "source": [
    "print(\"metric for evaluating the cte_kernal_denoising \",compute_var_metric(im1,filtred_gau_im1))"
   ]
  },
  {
   "cell_type": "markdown",
   "id": "0f04c95f",
   "metadata": {},
   "source": [
    "Ici, j'ai decomposer les zones consante de l'image simple mais j'ai remarquer que pour l'image de pyramide j'ai 190 niveau de gris bien plus que les 5 zones. celui est du au fait que au bord on a un changement des pixel et donc la fonction compute metric ne sera pas performante dans ce cas pour evaluer le bruit résiduel.\n",
    "Donc on utilisera la methode decrit dans le tp et on construira une fentre de taille 20x20 et on calculera la variane dans l'image. puisqu'on a plusieurs zones constante on remarquera par example dans la zone [0,50]x[0,50] on a une zone constante."
   ]
  },
  {
   "cell_type": "code",
   "execution_count": 29,
   "id": "c87fdec6",
   "metadata": {},
   "outputs": [
    {
     "data": {
      "text/plain": [
       "array([32], dtype=uint8)"
      ]
     },
     "execution_count": 29,
     "metadata": {},
     "output_type": "execute_result"
    }
   ],
   "source": [
    "np.unique(im1[0:50,0:50])"
   ]
  },
  {
   "cell_type": "code",
   "execution_count": 31,
   "id": "e56b404e",
   "metadata": {},
   "outputs": [
    {
     "data": {
      "text/plain": [
       "3.2728293641541053"
      ]
     },
     "execution_count": 31,
     "metadata": {},
     "output_type": "execute_result"
    }
   ],
   "source": [
    "def compute_var_tp(filtred_im):\n",
    "    return var_image(filtred_im,0,0,50,50)\n",
    "compute_var_tp(filtred_gau_im1)\n"
   ]
  },
  {
   "cell_type": "code",
   "execution_count": 126,
   "id": "fb419f4e",
   "metadata": {},
   "outputs": [],
   "source": [
    "filtre_med_im1=median_filter(noise_im1,r=3)\n",
    "viewimage(filtre_med_im1)"
   ]
  },
  {
   "cell_type": "code",
   "execution_count": 125,
   "id": "95c519f8",
   "metadata": {},
   "outputs": [],
   "source": [
    "viewimage(filtred_gau_im1)"
   ]
  },
  {
   "cell_type": "markdown",
   "id": "3871ee1d",
   "metadata": {},
   "source": [
    "<table><tr>\n",
    "<td> <img src=\"capture/18.PNG\" alt=\"Drawing\" style=\"width: 400px;\"/>  <p><center>Linear filter</center></p> </td> \n",
    "   \n",
    "<td> <img src=\"capture/17.PNG\" alt=\"Drawing\" style=\"width: 400px;\"/>  <p><center>medain filter</center></p> </td> \n",
    "    \n",
    "</tr></table>\n",
    "on constate que l'image avec le median a une plus forte distinction entre les zones"
   ]
  },
  {
   "cell_type": "code",
   "execution_count": 10,
   "id": "db5735d5",
   "metadata": {},
   "outputs": [],
   "source": [
    "im2=skio.imread(\"images/pyra-impulse.tif\")\n",
    "viewimage(im2)\n",
    "cst_ker=get_cst_ker(5)\n",
    "filtred_cst_im2=filtre_lineaire(im2,cst_ker)\n",
    "viewimage(filtred_cst_im2)\n",
    "filtre_med_im2=median_filter(im2,r=3)\n",
    "viewimage(filtre_med_im2)"
   ]
  },
  {
   "cell_type": "markdown",
   "id": "eb19baa9",
   "metadata": {},
   "source": [
    "<table><tr>\n",
    "<td> <img src=\"capture/19.PNG\" alt=\"Drawing\" style=\"width: 400px;\"/>  <p><center>impluse noise image</center></p> </td> \n",
    "   \n",
    "<td> <img src=\"capture/20.PNG\" alt=\"Drawing\" style=\"width: 400px;\"/>  <p><center>image with linear filter</center></p> </td> \n",
    "<td> <img src=\"capture/21.PNG\" alt=\"Drawing\" style=\"width: 400px;\"/>  <p><center>image with median filter</center></p> </td> \n",
    "        \n",
    "</tr></table>\n",
    "\n",
    "face au bruit impulsionnel le filtre median est plus performant que le filtre linear"
   ]
  },
  {
   "cell_type": "code",
   "execution_count": 13,
   "id": "01f76d3c",
   "metadata": {},
   "outputs": [],
   "source": [
    "im3=skio.imread(\"images/carre_orig.tif\")\n",
    "viewimage(im3)\n",
    "cst_ker=get_cst_ker(5)\n",
    "filtred_cst_im3=filtre_lineaire(im3,cst_ker)\n",
    "viewimage(filtred_cst_im3)\n",
    "filtre_med_im3=median_filter(im3,r=3)\n",
    "viewimage(filtre_med_im3)"
   ]
  },
  {
   "cell_type": "code",
   "execution_count": 138,
   "id": "7717a9d3",
   "metadata": {},
   "outputs": [],
   "source": [
    "filtre_med_im3=median_filter(im3,r=10)\n",
    "viewimage(filtre_med_im3)"
   ]
  },
  {
   "cell_type": "markdown",
   "id": "1fee434b",
   "metadata": {},
   "source": [
    "\n",
    "<table><tr>\n",
    "<td> <img src=\"capture/28.PNG\" alt=\"Drawing\" style=\"width: 400px;\"/>  <p><center>image originale</center></p> </td> \n",
    "   \n",
    "<td> <img src=\"capture/29.PNG\" alt=\"Drawing\" style=\"width: 400px;\"/>  <p><center>image apres application du filtre lineare</center></p> </td> \n",
    "    \n",
    "<td> <img src=\"capture/30.PNG\" alt=\"Drawing\" style=\"width: 400px;\"/>  <p><center>image apres application du filtre median</center></p> </td> \n",
    "    \n",
    "</tr></table>\n",
    "on remarque que dans l'image original il y'a un point lumineux en haut et à droite. Le filtrage de ce point là donnera la reponse indicielle du filtre étudier.\n",
    "Voici les images en faisant un meme zoom dans la zone contenat ce point. \n",
    "\n",
    "<table><tr>\n",
    "<td> <img src=\"capture/26.PNG\" alt=\"Drawing\" style=\"width: 400px;\"/>  <p><center>zoom sur l'image 1</center></p> </td> \n",
    "   \n",
    "<td> <img src=\"capture/25.PNG\" alt=\"Drawing\" style=\"width: 400px;\"/>  <p><center>zoom sur l'image 2</center></p> </td> \n",
    "    \n",
    "<td> <img src=\"capture/27.PNG\" alt=\"Drawing\" style=\"width: 400px;\"/>  <p><center>zoom sur l'image 3 </center></p> </td> \n",
    "    \n",
    "</tr></table>"
   ]
  },
  {
   "cell_type": "markdown",
   "id": "3cdaf3de",
   "metadata": {},
   "source": [
    "## 4. Restoration"
   ]
  },
  {
   "cell_type": "code",
   "execution_count": 3,
   "id": "48b9f641",
   "metadata": {},
   "outputs": [
    {
     "data": {
      "text/plain": [
       "array([[0.        , 0.07692308, 0.07692308, 0.07692308],\n",
       "       [0.07692308, 0.07692308, 0.07692308, 0.07692308],\n",
       "       [0.07692308, 0.        , 0.07692308, 0.07692308],\n",
       "       [0.07692308, 0.07692308, 0.07692308, 0.        ]])"
      ]
     },
     "execution_count": 3,
     "metadata": {},
     "output_type": "execute_result"
    }
   ],
   "source": [
    "im=skio.imread(\"images/tmp.tif\")\n",
    "mask=(1/13)*np.array([[0,1,1,1],\n",
    "                     [1,1,1,1],\n",
    "                     [1,0,1,1],\n",
    "                     [1,1,1,0]])\n",
    "mask"
   ]
  },
  {
   "cell_type": "code",
   "execution_count": 4,
   "id": "8bce2edc",
   "metadata": {},
   "outputs": [],
   "source": [
    "im_filtre =filtre_lineaire(im,mask)\n",
    "#viewimage(im_filtre)"
   ]
  },
  {
   "cell_type": "code",
   "execution_count": 5,
   "id": "5c57a296",
   "metadata": {},
   "outputs": [],
   "source": [
    "im_inverse_filtre = filtre_inverse(im_filtre,mask)\n",
    "#viewimage(im_inverse_filtre)"
   ]
  },
  {
   "cell_type": "markdown",
   "id": "51458a4b",
   "metadata": {},
   "source": [
    "<table><tr>\n",
    "<td> <img src=\"capture/33.PNG\" alt=\"Drawing\" style=\"width: 400px;\"/>  <p><center>imge originale</center></p> </td> \n",
    "   \n",
    "<td> <img src=\"capture/36.PNG\" alt=\"Drawing\" style=\"width: 400px;\"/>  <p><center>image filtré</center></p> </td> \n",
    "    \n",
    "<td> <img src=\"capture/37.PNG\" alt=\"Drawing\" style=\"width: 400px;\"/>  <p><center>image avec filtre inverse</center></p> </td> \n",
    "    \n",
    "</tr></table>\n",
    "\n",
    "Ici on constate qu'on a pu restauré parfaitemment l'image originale avec l'application du filtre inverse.\n",
    "Voyons ce que se passe lorsque on ajoute un peu de bruit"
   ]
  },
  {
   "cell_type": "code",
   "execution_count": 12,
   "id": "4779b847",
   "metadata": {},
   "outputs": [],
   "source": [
    "im_filtre_noisy = noise(im_filtre,3)\n",
    "viewimage(im_filtre_noisy)\n",
    "im_inverse_filtre_noisy = filtre_inverse(im_filtre_noisy,mask)\n",
    "viewimage(im_inverse_filtre_noisy)"
   ]
  },
  {
   "cell_type": "markdown",
   "id": "e634c7e9",
   "metadata": {},
   "source": [
    "<table><tr>\n",
    "<td> <img src=\"capture/39.PNG\" alt=\"Drawing\" style=\"width: 400px;\"/>  <p><center>Image Original</center></p> </td> \n",
    "   \n",
    "<td> <img src=\"capture/40.PNG\" alt=\"Drawing\" style=\"width: 400px;\"/>  <p><center>Image filtré avec bruit 1</center></p> </td> \n",
    " \n",
    "<td> <img src=\"capture/41.PNG\" alt=\"Drawing\" style=\"width: 400px;\"/>  <p><center>Image après l'application du filtre inverse</center></p> </td> \n",
    "    \n",
    "</tr></table>\n",
    "\n",
    "on constate ici que pour un bruit gaussien de variance 3 qui est negligeable devant les valeurs de donnée (entre 0 et 255) l'application du filtre inverse fait explosé le bruit et l'image restauré est dégradé"
   ]
  },
  {
   "cell_type": "code",
   "execution_count": 14,
   "id": "57ed00e0",
   "metadata": {},
   "outputs": [],
   "source": [
    "im2=skio.imread(\"images/carre_flou.tif\")\n",
    "viewimage(im2)"
   ]
  },
  {
   "cell_type": "markdown",
   "id": "aeb8529e",
   "metadata": {},
   "source": [
    "pour determiner le filtre qu'a subit l'image de carré en regarde la zone ou on a eu un point lumineux au debut et on regarde sa transformation. Ceci nous donnera le kernel de la convolution appliqué a li'mage.\n",
    "<table><tr>\n",
    "<td> <img src=\"capture/42.PNG\" alt=\"Drawing\" style=\"width: 400px;\"/>  <p><center>Image flouté</center></p> </td> \n",
    "   \n",
    "<td> <img src=\"capture/44.PNG\" alt=\"Drawing\" style=\"width: 400px;\"/>  <p><center>zoom dans la partie haute à droite</center></p> </td> \n",
    " \n",
    "<td> <img src=\"capture/45.PNG\" alt=\"Drawing\" style=\"width: 400px;\"/>  <p><center>on superpose l'image original et l'image flouté dans gimp pour savoir le centre de kernel</center></p> </td> \n",
    "    \n",
    "</tr></table>\n",
    "\n",
    "Ici pour connaitre exactement le centre de kernel et sa taille on doit supperposer les deux images et la position du point lumineu d'origine sera le centre du kernel dans notre cas le kernel est proportionnel au suivant au mask suivant :\n",
    "[[0,0,1]\n",
    " [1,1,1]\n",
    " [0,0,1]]"
   ]
  },
  {
   "cell_type": "code",
   "execution_count": 36,
   "id": "9c99c0dc",
   "metadata": {},
   "outputs": [
    {
     "data": {
      "text/plain": [
       "array([[  0,   0,   0,   0,   0,   0],\n",
       "       [  0,   0,   0,   0,   0,   0],\n",
       "       [  0,   0, 255,   0,   0,   0],\n",
       "       [  0,   0,   0,   0,   0,   0],\n",
       "       [  0,   0,   0,   0,   0,   0]], dtype=uint8)"
      ]
     },
     "execution_count": 36,
     "metadata": {},
     "output_type": "execute_result"
    }
   ],
   "source": [
    "im3[47:52,197:203]"
   ]
  },
  {
   "cell_type": "code",
   "execution_count": 38,
   "id": "17f67278",
   "metadata": {},
   "outputs": [
    {
     "data": {
      "text/plain": [
       "array([[ 0,  0,  0,  0,  0,  0],\n",
       "       [ 0,  0,  0, 51,  0,  0],\n",
       "       [ 0, 51, 51, 51,  0,  0],\n",
       "       [ 0,  0,  0, 51,  0,  0],\n",
       "       [ 0,  0,  0,  0,  0,  0]], dtype=uint8)"
      ]
     },
     "execution_count": 38,
     "metadata": {},
     "output_type": "execute_result"
    }
   ],
   "source": [
    "im2[47:52,197:203]"
   ]
  },
  {
   "cell_type": "code",
   "execution_count": 49,
   "id": "67895b75",
   "metadata": {},
   "outputs": [
    {
     "data": {
      "text/plain": [
       "array([[0. , 0. , 0.2],\n",
       "       [0.2, 0.2, 0.2],\n",
       "       [0. , 0. , 0.2]])"
      ]
     },
     "execution_count": 49,
     "metadata": {},
     "output_type": "execute_result"
    }
   ],
   "source": [
    "# ainsi le mask est le suivant :\n",
    "mask = 1/5 *np.array([[0,0,1],[1,1,1],[0,0,1]])\n",
    "mask "
   ]
  },
  {
   "cell_type": "code",
   "execution_count": 47,
   "id": "05108b5e",
   "metadata": {},
   "outputs": [
    {
     "data": {
      "text/plain": [
       "True"
      ]
     },
     "execution_count": 47,
     "metadata": {},
     "output_type": "execute_result"
    }
   ],
   "source": [
    "#restauration de l'image :\n",
    "im_inverse_filtre2 = filtre_inverse(im2,mask)\n",
    "viewimage(im_inverse_filtre2)\n",
    "(abs(im_inverse_filtre2-im3)<1e-5).all()"
   ]
  },
  {
   "cell_type": "markdown",
   "id": "4e0f30f8",
   "metadata": {},
   "source": [
    "Ici on remarque que l'image apres l'application du filtre inverse est egale à l'image original (au sens que en chaque pixel la difference est inferieur à 1e-5) et donc le mask deduit est bien celui de la transformation \n",
    "<table><tr>\n",
    "<td> <img src=\"capture/46.PNG\" alt=\"Drawing\" style=\"width: 400px;\"/>  <p><center>Image restauré</center></p> </td> \n",
    "\n",
    "</tr></table>"
   ]
  },
  {
   "cell_type": "code",
   "execution_count": 50,
   "id": "40b39c30",
   "metadata": {},
   "outputs": [],
   "source": [
    "noisy_square = noise(im2,5)\n",
    "viewimage(noisy_square)\n",
    "lamdas=[0,1,2,5,10,100,1000,10000]\n",
    "results=[]\n",
    "for lamda in lamdas :\n",
    "    result= wiener(noisy_square,mask,lamda)\n",
    "    results.append(result)\n",
    "for result in results :\n",
    "    viewimage(result)\n"
   ]
  },
  {
   "cell_type": "markdown",
   "id": "7f2945b5",
   "metadata": {},
   "source": [
    "<table><tr>\n",
    "<td> <img src=\"capture/47.PNG\" alt=\"Drawing\" style=\"width: 400px;\"/>  <p><center>image à filtrer</center></p> </td> \n",
    "</tr></table>\n",
    "<table><tr>   \n",
    "<td> <img src=\"capture/48.PNG\" alt=\"Drawing\" style=\"width: 400px;\"/>  <p><center>lamda = 0</center></p> </td> \n",
    "\n",
    "<td> <img src=\"capture/49.PNG\" alt=\"Drawing\" style=\"width: 400px;\"/>  <p><center>lamda = 1</center></p> </td> \n",
    "\n",
    "<td> <img src=\"capture/50.PNG\" alt=\"Drawing\" style=\"width: 400px;\"/>  <p><center>lamda = 2</center></p> </td> \n",
    "\n",
    "    \n",
    "<td> <img src=\"capture/51.PNG\" alt=\"Drawing\" style=\"width: 400px;\"/>  <p><center>lamda = 5</center></p> </td> \n",
    "</tr></table>\n",
    "<table><tr>\n",
    "<td> <img src=\"capture/52.PNG\" alt=\"Drawing\" style=\"width: 400px;\"/>  <p><center>lamda = 10</center></p> </td> \n",
    "\n",
    "<td> <img src=\"capture/53.PNG\" alt=\"Drawing\" style=\"width: 400px;\"/>  <p><center>lamda = 100</center></p> </td> \n",
    "   \n",
    "<td> <img src=\"capture/54.PNG\" alt=\"Drawing\" style=\"width: 400px;\"/>  <p><center>lamda = 1000</center></p> </td> \n",
    "  \n",
    "<td> <img src=\"capture/55.PNG\" alt=\"Drawing\" style=\"width: 400px;\"/>  <p><center>lamda = 10000</center></p> </td> \n",
    "  \n",
    "</tr></table>\n",
    "\n",
    "On remarque que pour lamda = 0 on aura le meme resultat que pour la fonction inverse filtre qui explose le bruit.\n",
    "En augmentant lamda on tient compte de plus en plus de l'importance du bruit et particulirerment pour lambda egale à la variance de bruit on a le meilleur resultat ici (lamda = 5). \n",
    "En faisant augmenter lamda encore on considere que le bruit est tres eleve et que le rapport signale à bruit est faible donc le meilleur choix c'est de rendre tous rendre null dans le domaine frequencielle ce qui explique les resultat obtenu pour lamda =1000 et 10000"
   ]
  },
  {
   "cell_type": "markdown",
   "id": "d0722201",
   "metadata": {},
   "source": [
    "## 5. Application"
   ]
  },
  {
   "cell_type": "markdown",
   "id": "efcb5654",
   "metadata": {},
   "source": [
    "### 5.1  Comparaison filtrage linéaire et médian"
   ]
  },
  {
   "cell_type": "code",
   "execution_count": 33,
   "id": "436c9182",
   "metadata": {},
   "outputs": [
    {
     "data": {
      "text/plain": [
       "4.088321800008753"
      ]
     },
     "execution_count": 33,
     "metadata": {},
     "output_type": "execute_result"
    }
   ],
   "source": [
    "im=skio.imread(\"images\\carre_orig.tif\")\n",
    "noisy_im = noise(im,5)\n",
    "viewimage(noisy_im)\n",
    "filtred_image=median_filter(noisy_im,typ=2,r=4)\n",
    "compute_var_tp(filtred_image)"
   ]
  },
  {
   "cell_type": "code",
   "execution_count": 43,
   "id": "24eabd97",
   "metadata": {},
   "outputs": [
    {
     "data": {
      "text/plain": [
       "6.08635641885736"
      ]
     },
     "execution_count": 43,
     "metadata": {},
     "output_type": "execute_result"
    }
   ],
   "source": [
    "kernel = get_cst_ker(2)\n",
    "filtred_image_cst1=filtre_lineaire(noisy_im,kernel)\n",
    "compute_var_tp(filtred_image_cst1)"
   ]
  },
  {
   "cell_type": "code",
   "execution_count": 44,
   "id": "b43e9bd9",
   "metadata": {},
   "outputs": [
    {
     "data": {
      "text/plain": [
       "2.662461759316227"
      ]
     },
     "execution_count": 44,
     "metadata": {},
     "output_type": "execute_result"
    }
   ],
   "source": [
    "kernel = get_cst_ker(3)\n",
    "filtred_image_cst1=filtre_lineaire(noisy_im,kernel)\n",
    "compute_var_tp(filtred_image_cst1)"
   ]
  },
  {
   "cell_type": "markdown",
   "id": "9c2d1178",
   "metadata": {},
   "source": [
    "Pour un noyau constant on peut montrer que pour cette image de carre que plus le noyeau est grand plus le bruit residuelle sera faible car cette image et partiquement constante dans des region tres large. Donc pour avoir un meme resultat que le filtre median il suffit de comparer la valeur residuelle obtenu pour differentes valeurs de filtre constant jusqu'à arriver a celui qui a moin de variance de bruit residuelle. anisi ici un filtre constant de taille 3 suffira pour avoir des resultat comparable a celle de filtrage par le filtre median"
   ]
  },
  {
   "cell_type": "markdown",
   "id": "2a916d29",
   "metadata": {},
   "source": [
    "### 5.2  Calcul théorique du paramètre de restauration"
   ]
  },
  {
   "cell_type": "code",
   "execution_count": 61,
   "id": "9820f9e2",
   "metadata": {},
   "outputs": [],
   "source": [
    "def wiener2(im,K,var=1):\n",
    "    \"\"\"effectue un filtrage de wiener de l'image im par le filtre K.\n",
    "       lamb=0 donne le filtre inverse\n",
    "       on rappelle que le filtre de Wiener est une tentaive d'inversion du noyau K\n",
    "       avec une regularisation qui permet de ne pas trop augmenter le bruit.\n",
    "       \"\"\"\n",
    "    fft2=np.fft.fft2\n",
    "    ifft2=np.fft.ifft2\n",
    "    (ty,tx)=im.shape\n",
    "    (yK,xK)=K.shape\n",
    "    KK=np.zeros((ty,tx))\n",
    "    KK[:yK,:xK]=K\n",
    "    x2=tx/2\n",
    "    y2=ty/2\n",
    "    \n",
    "    fX=np.concatenate((np.arange(0,x2+0.99),np.arange(-x2+1,-0.1)))\n",
    "    fY=np.concatenate((np.arange(0,y2+0.99),np.arange(-y2+1,-0.1)))\n",
    "    fX=np.ones((ty,1))@fX.reshape((1,-1))\n",
    "    fY=fY.reshape((-1,1))@np.ones((1,tx))\n",
    "    fX=fX/tx\n",
    "    fY=fY/ty\n",
    "    \n",
    "    w2=fX**2+fY**2\n",
    "    w=w2**0.5\n",
    "    \n",
    "    #tranformee de Fourier de l'image degradeee\n",
    "    g=fft2(im)\n",
    "    #transformee de Fourier du noyau\n",
    "    k=fft2(KK)\n",
    "    #nouveau quotien introduit \n",
    "    quotient = ( ty*tx * var) /(g**2)\n",
    "    #fonction de mutilplication\n",
    "    mul=np.conj(k)/(abs(k)**2+quotient)\n",
    "    #filtrage de wiener\n",
    "    fout=g*mul\n",
    "    \n",
    "    # on effectue une translation pour une raison technique\n",
    "    mm=np.zeros((ty,tx))\n",
    "    y2=int(np.round(yK/2-0.5))\n",
    "    x2=int(np.round(xK/2-0.5))\n",
    "    mm[y2,x2]=1\n",
    "    out=np.real(ifft2(fout*(fft2(mm))))\n",
    "    return out\n"
   ]
  },
  {
   "cell_type": "code",
   "execution_count": 65,
   "id": "435e3d3a",
   "metadata": {},
   "outputs": [],
   "source": [
    "im2=skio.imread(\"images/carre_flou.tif\")\n",
    "noisy_square = noise(im2,5)\n",
    "result= wiener2(noisy_square,mask,5)\n",
    "viewimage(result)"
   ]
  },
  {
   "cell_type": "markdown",
   "id": "ddb6a3f9",
   "metadata": {},
   "source": [
    "<table><tr>\n",
    "<td> <img src=\"capture/57.PNG\" alt=\"Drawing\" style=\"width: 400px;\"/>  <p><center>noisy_suqare</center></p> </td> \n",
    "   \n",
    "<td> <img src=\"capture/56.PNG\" alt=\"Drawing\" style=\"width: 400px;\"/>  <p><center>image après filtrage</center></p> </td> \n",
    "    \n",
    "</tr></table>\n"
   ]
  }
 ],
 "metadata": {
  "kernelspec": {
   "display_name": "Python 3 (ipykernel)",
   "language": "python",
   "name": "python3"
  },
  "language_info": {
   "codemirror_mode": {
    "name": "ipython",
    "version": 3
   },
   "file_extension": ".py",
   "mimetype": "text/x-python",
   "name": "python",
   "nbconvert_exporter": "python",
   "pygments_lexer": "ipython3",
   "version": "3.9.7"
  }
 },
 "nbformat": 4,
 "nbformat_minor": 5
}
